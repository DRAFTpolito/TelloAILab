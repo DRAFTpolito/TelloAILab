{
 "cells": [
  {
   "cell_type": "markdown",
   "id": "f58e5ddb-c391-454e-81d9-3825f7ce82b4",
   "metadata": {},
   "source": [
    "# Tello for Nerds\n",
    "\n",
    "<img src=\"resources/tello.png\" width=\"600\"/>"
   ]
  },
  {
   "cell_type": "markdown",
   "id": "9f33bd36",
   "metadata": {},
   "source": [
    "## Codebase Clone - Git"
   ]
  },
  {
   "cell_type": "markdown",
   "id": "64d89b73",
   "metadata": {},
   "source": [
    "First of all it is possible to download the codebase from the official GitHub repository of the team.\n",
    "- (Ubuntu instructions) Open a terminal and install git\n",
    "```\n",
    "$ sudo apt-get update\n",
    "$ sudo apt-get install git\n",
    "```\n",
    "- (Windows instructions) Download git from the following [link](https://git-scm.com/download/win) and install it.\n",
    "    - Then open a command window and type this command to verify the installation.\n",
    "    - If you don't get any errors, it means the installation was successful.\n",
    "```\n",
    "$ git\n",
    "```\n",
    "- Setting up git and clone the repository\n",
    "```\n",
    "$ git config --global user.name \"NAME\"\n",
    "$ git config --global user.email \"EMAIL\"\n",
    "$ cd ~ && git clone https://github.com/DRAFTpolito/TelloAILab.git\n",
    "```\n",
    "- Open the repository folder\n",
    "```\n",
    "$ cd TelloAILab\n",
    "```"
   ]
  },
  {
   "cell_type": "markdown",
   "id": "9d9a1300",
   "metadata": {},
   "source": [
    "## Setup of the Virtual Environment"
   ]
  },
  {
   "cell_type": "markdown",
   "id": "a787b90f",
   "metadata": {},
   "source": [
    "Note:\n",
    "**Windows** users are required to perform the instructions below to install Conda (Virtual Env). "
   ]
  },
  {
   "cell_type": "markdown",
   "id": "d49a7288",
   "metadata": {},
   "source": [
    "### Windows (only)"
   ]
  },
  {
   "cell_type": "markdown",
   "id": "1d58113a",
   "metadata": {},
   "source": [
    "- Download  conda from the following [link](https://repo.anaconda.com/archive/Anaconda3-2021.11-Windows-x86_64.exe) and install it.\n",
    "- Search for conda among the programs list and open the *Prompt* (terminal icon)\n",
    "- Type the following commands:\n",
    "```\n",
    "$ conda create --name tellolab python=3.8\n",
    "$ conda activate tellolab\n",
    "$ conda install -c anaconda protobuf\n",
    "```"
   ]
  },
  {
   "cell_type": "markdown",
   "id": "53bd7416",
   "metadata": {},
   "source": [
    "### Dependency Installation\n",
    "- From the terminal it is now possibile to install all the requirements\n",
    "```\n",
    "$ cd /path/to/TelloAILab\n",
    "$ pip install -r requirements.txt\n",
    "```\n",
    "\n",
    "\n",
    "*Troubleshooting:* \n",
    "- In case jupyter lab is not able to find the packages:\n",
    "    1. Be sure you are in the right enviroment\n",
    "    2. Type the following inside the terminal\n",
    "```\n",
    "$ pip install ipykernel --upgrade\n",
    "$ python -m ipykernel install --user\n",
    "```\n",
    "-  To avoid problems with \"cv2.namedWindows\", uninstall opencv headless:\n",
    "```\n",
    "$ pip uninstall opencv-python-headless\n",
    "```"
   ]
  },
  {
   "cell_type": "markdown",
   "id": "c0e65955",
   "metadata": {},
   "source": [
    "### Jupiter Notebook\n",
    "- To start, move to the root repository path - you can use `cd` to move the desired path\n",
    "- Run the following command (not the port is not the standard ones)\n",
    "```\n",
    "$ jupyter notebook --port 8889\n",
    "```"
   ]
  },
  {
   "cell_type": "markdown",
   "id": "41d80d56",
   "metadata": {},
   "source": [
    "## Code structure"
   ]
  },
  {
   "cell_type": "markdown",
   "id": "51cf113d",
   "metadata": {},
   "source": [
    "### Imports"
   ]
  },
  {
   "cell_type": "code",
   "execution_count": null,
   "id": "2715ae9f",
   "metadata": {},
   "outputs": [],
   "source": [
    "from time import sleep\n",
    "import numpy as np\n",
    "import tellopy"
   ]
  },
  {
   "cell_type": "markdown",
   "id": "0a7c03a2",
   "metadata": {},
   "source": [
    "### Parameters and Data Handler"
   ]
  },
  {
   "cell_type": "code",
   "execution_count": null,
   "id": "bfb4f853",
   "metadata": {},
   "outputs": [],
   "source": [
    "MAX_SPEED = 30\n",
    "prev_flight_data = \"\"\n",
    "\n",
    "def flight_data_handler(event, sender, data):\n",
    "    global prev_flight_data\n",
    "    \"\"\"\n",
    "    Listener to flight data from the drone.\n",
    "    \"\"\"\n",
    "    text = str(data)\n",
    "    if prev_flight_data != text:\n",
    "        prev_flight_data = text"
   ]
  },
  {
   "cell_type": "markdown",
   "id": "4318ddfd",
   "metadata": {},
   "source": [
    "### Initilization and connection to the drone"
   ]
  },
  {
   "cell_type": "markdown",
   "id": "c735e951",
   "metadata": {},
   "source": [
    "**Warning** from this point on it is required to be connected to the Tello drone "
   ]
  },
  {
   "cell_type": "code",
   "execution_count": null,
   "id": "6810abb4",
   "metadata": {},
   "outputs": [],
   "source": [
    "drone = tellopy.Tello()\n",
    "try:\n",
    "    drone.log.set_level(0)\n",
    "    drone.connect()\n",
    "    drone.wait_for_connection(30.0) # connection timeout\n",
    "    #drone.start_video()\n",
    "    drone.subscribe(drone.EVENT_FLIGHT_DATA, flight_data_handler)\n",
    "except Exception as exp:\n",
    "    print(f\"Error something went wrong... - {exp}\")\n",
    "    drone.quit()"
   ]
  },
  {
   "cell_type": "markdown",
   "id": "f59763f2",
   "metadata": {},
   "source": [
    "## Time to Fly!"
   ]
  },
  {
   "cell_type": "markdown",
   "id": "545f33fc",
   "metadata": {},
   "source": [
    "### Takeoff and Landing"
   ]
  },
  {
   "cell_type": "code",
   "execution_count": null,
   "id": "9177e5d0",
   "metadata": {},
   "outputs": [],
   "source": [
    "try:\n",
    "    drone.takeoff()\n",
    "    sleep(5)\n",
    "    drone.down(MAX_SPEED)\n",
    "    sleep(5)\n",
    "    drone.land()\n",
    "    sleep(5)\n",
    "except Exception as exp:\n",
    "    print(f\"Error something went wrong... - {exp}\")\n",
    "    drone.quit()"
   ]
  },
  {
   "cell_type": "markdown",
   "id": "0c244604",
   "metadata": {},
   "source": [
    "### Let's move"
   ]
  },
  {
   "cell_type": "code",
   "execution_count": null,
   "id": "30d89b5b",
   "metadata": {},
   "outputs": [],
   "source": [
    "try:\n",
    "    drone.takeoff()\n",
    "    sleep(3)\n",
    "    for i in range(3):\n",
    "        drone.forward(MAX_SPEED)\n",
    "        sleep(3)\n",
    "        drone.backward(MAX_SPEED)\n",
    "        sleep(3)\n",
    "    drone.down(MAX_SPEED)\n",
    "    sleep(2)\n",
    "    drone.land()\n",
    "    sleep(5)\n",
    "except Exception as exp:\n",
    "    print(f\"Error something went wrong... - {exp}\")\n",
    "    drone.quit()"
   ]
  },
  {
   "cell_type": "markdown",
   "id": "5fdf8c3c",
   "metadata": {},
   "source": [
    "### Command a simple Path"
   ]
  },
  {
   "cell_type": "code",
   "execution_count": null,
   "id": "26de9bd6",
   "metadata": {},
   "outputs": [],
   "source": [
    "try:\n",
    "    drone.takeoff()\n",
    "    sleep(3)\n",
    "    for i in range(2):\n",
    "        print (\"- {} -\".format(i+1))\n",
    "        for dir in [\"forward\", \"right\", \"backward\", \"left\"]:\n",
    "            print(\"go {}...\".format(dir))\n",
    "            for speed in [MAX_SPEED, 0]:\n",
    "                getattr(drone, dir)(speed)\n",
    "                sleep(2)\n",
    "    drone.down(MAX_SPEED)\n",
    "    sleep(2)\n",
    "    drone.land()\n",
    "    sleep(5)\n",
    "except Exception as exp:\n",
    "    print(f\"Error something went wrong... - {exp}\")\n",
    "    drone.quit()"
   ]
  },
  {
   "cell_type": "markdown",
   "id": "65aad735",
   "metadata": {},
   "source": [
    "### Another (more complicated) Path"
   ]
  },
  {
   "cell_type": "code",
   "execution_count": null,
   "id": "4b2f5a03",
   "metadata": {},
   "outputs": [],
   "source": [
    "try:\n",
    "    isClockwise = True\n",
    "    drone.takeoff()\n",
    "    sleep(3)\n",
    "    for i in range(4):\n",
    "        print(\"lap {}\".format(i+1))\n",
    "        for dir in [\"forward\", \"clockwise\"]:\n",
    "            print(\"go {}...\".format(dir))\n",
    "            for speed in [MAX_SPEED, 0]:\n",
    "                getattr(drone, dir)(speed)\n",
    "                sleep(2 if speed is 0 else (1 if dir is \"forward\" else 5))\n",
    "    drone.down(MAX_SPEED)\n",
    "    sleep(2)\n",
    "    drone.land()\n",
    "    sleep(5)\n",
    "except Exception as exp:\n",
    "    print(f\"Error something went wrong... - {exp}\")\n",
    "    drone.quit()"
   ]
  },
  {
   "cell_type": "markdown",
   "id": "433c51bc",
   "metadata": {},
   "source": [
    "### Flip!"
   ]
  },
  {
   "cell_type": "code",
   "execution_count": null,
   "id": "2dffb08f",
   "metadata": {},
   "outputs": [],
   "source": [
    "try:\n",
    "    drone.takeoff()\n",
    "    sleep(3)\n",
    "    for speed in [MAX_SPEED, 0]:\n",
    "        drone.up(speed)\n",
    "        sleep(2)\n",
    "    drone.flip_forward()\n",
    "    sleep(5)\n",
    "    drone.down(MAX_SPEED)\n",
    "    sleep(2)\n",
    "    drone.land()\n",
    "    sleep(5)\n",
    "except Exception as exp:\n",
    "    print(f\"Error something went wrong... - {exp}\")\n",
    "    drone.quit()"
   ]
  },
  {
   "cell_type": "markdown",
   "id": "f9ca194d",
   "metadata": {},
   "source": [
    "### Close the connection"
   ]
  },
  {
   "cell_type": "code",
   "execution_count": null,
   "id": "bcebc15f",
   "metadata": {},
   "outputs": [],
   "source": [
    "drone.quit()"
   ]
  },
  {
   "cell_type": "markdown",
   "id": "6525fe41",
   "metadata": {},
   "source": [
    "### More examples\n",
    "For more information about the library, see the examples in the [TelloPy](https://github.com/hanyazou/TelloPy)'s repository."
   ]
  }
 ],
 "metadata": {
  "kernelspec": {
   "display_name": "Python 3",
   "language": "python",
   "name": "python3"
  },
  "language_info": {
   "codemirror_mode": {
    "name": "ipython",
    "version": 3
   },
   "file_extension": ".py",
   "mimetype": "text/x-python",
   "name": "python",
   "nbconvert_exporter": "python",
   "pygments_lexer": "ipython3",
   "version": "3.8.13"
  }
 },
 "nbformat": 4,
 "nbformat_minor": 5
}
